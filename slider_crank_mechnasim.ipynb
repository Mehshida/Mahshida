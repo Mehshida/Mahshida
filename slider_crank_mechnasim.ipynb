{
  "cells": [
    {
      "cell_type": "markdown",
      "metadata": {
        "id": "view-in-github",
        "colab_type": "text"
      },
      "source": [
        "<a href=\"https://colab.research.google.com/github/Mehshida/Mehshida/blob/main/slider_crank_mechnasim.ipynb\" target=\"_parent\"><img src=\"https://colab.research.google.com/assets/colab-badge.svg\" alt=\"Open In Colab\"/></a>"
      ]
    },
    {
      "cell_type": "code",
      "execution_count": null,
      "metadata": {
        "id": "fdVmUiF7-LEK"
      },
      "outputs": [],
      "source": [
        "import numpy as np"
      ]
    },
    {
      "cell_type": "code",
      "execution_count": null,
      "metadata": {
        "colab": {
          "base_uri": "https://localhost:8080/"
        },
        "id": "irBhPRjDXFR_",
        "outputId": "16b08343-65f1-47c4-afbf-c02fb31d57a9"
      },
      "outputs": [
        {
          "data": {
            "text/plain": [
              "[1, 2, 3, 4, 5, 65, 1, 2, 3, 4, 5, 65]"
            ]
          },
          "execution_count": 7,
          "metadata": {},
          "output_type": "execute_result"
        }
      ],
      "source": [
        "[1,2,3,4,5,65]*2"
      ]
    },
    {
      "cell_type": "code",
      "execution_count": null,
      "metadata": {
        "colab": {
          "base_uri": "https://localhost:8080/"
        },
        "id": "t5kvXmaKWxxq",
        "outputId": "45c2ce94-88f3-4164-cab5-6f4f6aef333c"
      },
      "outputs": [
        {
          "data": {
            "text/plain": [
              "array([  2,   4,   6,   8,  10, 130])"
            ]
          },
          "execution_count": 6,
          "metadata": {},
          "output_type": "execute_result"
        }
      ],
      "source": [
        "arr = np.array([1,2,3,4,5,65])\n",
        "arr*2"
      ]
    },
    {
      "cell_type": "code",
      "execution_count": null,
      "metadata": {
        "colab": {
          "base_uri": "https://localhost:8080/",
          "height": 217
        },
        "id": "GgXcvEQbPt3h",
        "outputId": "7c042c78-3035-4abb-ffbe-aa07e181939b"
      },
      "outputs": [
        {
          "ename": "ValueError",
          "evalue": "ignored",
          "output_type": "error",
          "traceback": [
            "\u001b[0;31m---------------------------------------------------------------------------\u001b[0m",
            "\u001b[0;31mValueError\u001b[0m                                Traceback (most recent call last)",
            "\u001b[0;32m<ipython-input-3-ab4ee766b2a6>\u001b[0m in \u001b[0;36m<module>\u001b[0;34m()\u001b[0m\n\u001b[0;32m----> 1\u001b[0;31m \u001b[0;34m[\u001b[0m\u001b[0msqrt\u001b[0m\u001b[0;34m(\u001b[0m\u001b[0ml1\u001b[0m\u001b[0;34m**\u001b[0m\u001b[0;36m2\u001b[0m\u001b[0;34m-\u001b[0m\u001b[0ml2\u001b[0m\u001b[0;34m**\u001b[0m\u001b[0;36m2\u001b[0m\u001b[0;34m*\u001b[0m\u001b[0msin\u001b[0m\u001b[0;34m(\u001b[0m\u001b[0mth\u001b[0m\u001b[0;34m)\u001b[0m\u001b[0;34m**\u001b[0m\u001b[0;36m2\u001b[0m\u001b[0;34m)\u001b[0m \u001b[0;32mfor\u001b[0m \u001b[0mc\u001b[0m\u001b[0;34m,\u001b[0m\u001b[0mth\u001b[0m \u001b[0;32min\u001b[0m \u001b[0mzip\u001b[0m\u001b[0;34m(\u001b[0m\u001b[0mt\u001b[0m\u001b[0;34m,\u001b[0m\u001b[0mth1\u001b[0m\u001b[0;34m)\u001b[0m\u001b[0;34m]\u001b[0m\u001b[0;34m\u001b[0m\u001b[0;34m\u001b[0m\u001b[0m\n\u001b[0m",
            "\u001b[0;32m<ipython-input-3-ab4ee766b2a6>\u001b[0m in \u001b[0;36m<listcomp>\u001b[0;34m(.0)\u001b[0m\n\u001b[0;32m----> 1\u001b[0;31m \u001b[0;34m[\u001b[0m\u001b[0msqrt\u001b[0m\u001b[0;34m(\u001b[0m\u001b[0ml1\u001b[0m\u001b[0;34m**\u001b[0m\u001b[0;36m2\u001b[0m\u001b[0;34m-\u001b[0m\u001b[0ml2\u001b[0m\u001b[0;34m**\u001b[0m\u001b[0;36m2\u001b[0m\u001b[0;34m*\u001b[0m\u001b[0msin\u001b[0m\u001b[0;34m(\u001b[0m\u001b[0mth\u001b[0m\u001b[0;34m)\u001b[0m\u001b[0;34m**\u001b[0m\u001b[0;36m2\u001b[0m\u001b[0;34m)\u001b[0m \u001b[0;32mfor\u001b[0m \u001b[0mc\u001b[0m\u001b[0;34m,\u001b[0m\u001b[0mth\u001b[0m \u001b[0;32min\u001b[0m \u001b[0mzip\u001b[0m\u001b[0;34m(\u001b[0m\u001b[0mt\u001b[0m\u001b[0;34m,\u001b[0m\u001b[0mth1\u001b[0m\u001b[0;34m)\u001b[0m\u001b[0;34m]\u001b[0m\u001b[0;34m\u001b[0m\u001b[0;34m\u001b[0m\u001b[0m\n\u001b[0m",
            "\u001b[0;31mValueError\u001b[0m: math domain error"
          ]
        }
      ],
      "source": [
        "[sqrt(l1**2-l2**2*sin(th)**2) for c,th in zip(t,th1)]"
      ]
    },
    {
      "cell_type": "code",
      "execution_count": 2,
      "metadata": {
        "colab": {
          "base_uri": "https://localhost:8080/",
          "height": 279
        },
        "id": "wc0QvgrkJ2W3",
        "outputId": "2837b91a-28a0-4b2f-8e87-38e3478c7432"
      },
      "outputs": [
        {
          "output_type": "display_data",
          "data": {
            "text/plain": [
              "<Figure size 432x288 with 1 Axes>"
            ],
            "image/png": "[encoded data removed]"
          },
          "metadata": {
            "needs_background": "light"
          }
        }
      ],
      "source": [
        "from math import sin, cos, sqrt,acos\n",
        "import numpy as np\n",
        "l1 = 25\n",
        "l2 = 16\n",
        "n  = l1/l2\n",
        "N  = 15\n",
        "w  = (2*3.14159265358792384*15)/60\n",
        "t  = list(np.linspace(0,5,100))\n",
        "\n",
        "th1 = [w*x for x in t]\n",
        "th1 = list(np.linspace(0,5,100))\n",
        "\n",
        "## = [ (l1**2) * (cos(th))**2 + (sqrt(l2**2 - (l1**2) * (sin(th)**2))) for c,th in zip(t,th1)]\n",
        "x= [ l2*cos(th) + sqrt(l1**2-l2**2*sin(th)**2) for c,th in zip(t,th1)]\n",
        "v = [ w*l1 * (cos(th)) + (l1*l2//2) * cos(2*th) for c,th in zip(t,th1) ]\n",
        "a=  [ (l1*w**2) * (cos(th) + (cos (2*th)/n)) for c,th in zip(t,th1) ]\n",
        "from matplotlib import pyplot as plt\n",
        "plt.plot(t,x)\n",
        "plt.xlabel(\"t\")\n",
        "plt.ylabel(\"x\")\n",
        "plt.show()"
      ]
    },
    {
      "cell_type": "code",
      "execution_count": null,
      "metadata": {
        "id": "aX9bjeys4wUy"
      },
      "outputs": [],
      "source": [
        "Code for slider crankmechanism\n",
        "clc;\n",
        "clear all;\n",
        "l=150;\n",
        "r=60;\n",
        "n=r/l;\n",
        "N=10;\n",
        "w=2*pi*N/60;\n",
        "t=0:0.1:6\n",
        "th=w*t;\n",
        "if th==0\n",
        "    x=r+l;\n",
        "else th==180\n",
        "    x=r-l;\n",
        "end\n",
        "x=r*cos(th)+sqrt(l.^2-r.^2*sin(th).^2);\n",
        "\n",
        "v=(1.*r.*w)*(sin(th)+((r.*sin(2.*th))./(2.*sqrt(l.^2-r.^2.*sin(th).^2))));\n",
        "a=-r*w^2*(cos(th)+r/l*cos(2*th));\n",
        "\n",
        "figure(1)\n",
        "plot(t,x);\n",
        "title('displacement');\n",
        "xlabel('t');\n",
        "ylabel('x');\n",
        "grid on;\n",
        "figure(2)\n",
        "plot(t,v);\n",
        "title('velocity');\n",
        "xlabel('t');\n",
        "ylabel('v');\n",
        "grid on;\n",
        "figure(3);\n",
        "plot(t,a);\n",
        "title('t/acceleration');\n",
        "xlabel('t');\n",
        "ylabel('a');\n",
        "\n",
        "\n"
      ]
    },
    {
      "cell_type": "code",
      "execution_count": null,
      "metadata": {
        "colab": {
          "base_uri": "https://localhost:8080/",
          "height": 282
        },
        "id": "FMuK8i2FIqsB",
        "outputId": "55681f91-bef7-45e7-d77f-77030a1ffc5a"
      },
      "outputs": [
        {
          "ename": "ValueError",
          "evalue": "ignored",
          "output_type": "error",
          "traceback": [
            "\u001b[0;31m---------------------------------------------------------------------------\u001b[0m",
            "\u001b[0;31mValueError\u001b[0m                                Traceback (most recent call last)",
            "\u001b[0;32m<ipython-input-4-6cd6d95b21e3>\u001b[0m in \u001b[0;36m<module>\u001b[0;34m()\u001b[0m\n\u001b[1;32m      1\u001b[0m \u001b[0;34m\u001b[0m\u001b[0m\n\u001b[0;32m----> 2\u001b[0;31m \u001b[0mx\u001b[0m \u001b[0;34m=\u001b[0m \u001b[0;34m[\u001b[0m \u001b[0;34m(\u001b[0m\u001b[0ml1\u001b[0m\u001b[0;34m**\u001b[0m\u001b[0;36m2\u001b[0m\u001b[0;34m)\u001b[0m \u001b[0;34m*\u001b[0m \u001b[0;34m(\u001b[0m\u001b[0mcos\u001b[0m\u001b[0;34m(\u001b[0m\u001b[0mth\u001b[0m\u001b[0;34m)\u001b[0m\u001b[0;34m)\u001b[0m\u001b[0;34m**\u001b[0m\u001b[0;36m2\u001b[0m \u001b[0;34m+\u001b[0m \u001b[0;34m(\u001b[0m\u001b[0msqrt\u001b[0m\u001b[0;34m(\u001b[0m\u001b[0ml2\u001b[0m\u001b[0;34m**\u001b[0m\u001b[0;36m2\u001b[0m \u001b[0;34m-\u001b[0m \u001b[0;34m(\u001b[0m\u001b[0ml1\u001b[0m\u001b[0;34m**\u001b[0m\u001b[0;36m2\u001b[0m\u001b[0;34m)\u001b[0m \u001b[0;34m*\u001b[0m \u001b[0;34m(\u001b[0m\u001b[0msin\u001b[0m\u001b[0;34m(\u001b[0m\u001b[0mth\u001b[0m\u001b[0;34m)\u001b[0m\u001b[0;34m**\u001b[0m\u001b[0;36m2\u001b[0m\u001b[0;34m)\u001b[0m\u001b[0;34m)\u001b[0m\u001b[0;34m)\u001b[0m \u001b[0;32mfor\u001b[0m \u001b[0mc\u001b[0m\u001b[0;34m,\u001b[0m\u001b[0mth\u001b[0m \u001b[0;32min\u001b[0m \u001b[0mzip\u001b[0m\u001b[0;34m(\u001b[0m\u001b[0mt\u001b[0m\u001b[0;34m,\u001b[0m\u001b[0mth1\u001b[0m\u001b[0;34m)\u001b[0m\u001b[0;34m]\u001b[0m\u001b[0;34m\u001b[0m\u001b[0;34m\u001b[0m\u001b[0m\n\u001b[0m\u001b[1;32m      3\u001b[0m \u001b[0mx\u001b[0m\u001b[0;34m[\u001b[0m\u001b[0;36m0\u001b[0m\u001b[0;34m:\u001b[0m\u001b[0;36m5\u001b[0m\u001b[0;34m]\u001b[0m\u001b[0;34m\u001b[0m\u001b[0;34m\u001b[0m\u001b[0m\n",
            "\u001b[0;32m<ipython-input-4-6cd6d95b21e3>\u001b[0m in \u001b[0;36m<listcomp>\u001b[0;34m(.0)\u001b[0m\n\u001b[1;32m      1\u001b[0m \u001b[0;34m\u001b[0m\u001b[0m\n\u001b[0;32m----> 2\u001b[0;31m \u001b[0mx\u001b[0m \u001b[0;34m=\u001b[0m \u001b[0;34m[\u001b[0m \u001b[0;34m(\u001b[0m\u001b[0ml1\u001b[0m\u001b[0;34m**\u001b[0m\u001b[0;36m2\u001b[0m\u001b[0;34m)\u001b[0m \u001b[0;34m*\u001b[0m \u001b[0;34m(\u001b[0m\u001b[0mcos\u001b[0m\u001b[0;34m(\u001b[0m\u001b[0mth\u001b[0m\u001b[0;34m)\u001b[0m\u001b[0;34m)\u001b[0m\u001b[0;34m**\u001b[0m\u001b[0;36m2\u001b[0m \u001b[0;34m+\u001b[0m \u001b[0;34m(\u001b[0m\u001b[0msqrt\u001b[0m\u001b[0;34m(\u001b[0m\u001b[0ml2\u001b[0m\u001b[0;34m**\u001b[0m\u001b[0;36m2\u001b[0m \u001b[0;34m-\u001b[0m \u001b[0;34m(\u001b[0m\u001b[0ml1\u001b[0m\u001b[0;34m**\u001b[0m\u001b[0;36m2\u001b[0m\u001b[0;34m)\u001b[0m \u001b[0;34m*\u001b[0m \u001b[0;34m(\u001b[0m\u001b[0msin\u001b[0m\u001b[0;34m(\u001b[0m\u001b[0mth\u001b[0m\u001b[0;34m)\u001b[0m\u001b[0;34m**\u001b[0m\u001b[0;36m2\u001b[0m\u001b[0;34m)\u001b[0m\u001b[0;34m)\u001b[0m\u001b[0;34m)\u001b[0m \u001b[0;32mfor\u001b[0m \u001b[0mc\u001b[0m\u001b[0;34m,\u001b[0m\u001b[0mth\u001b[0m \u001b[0;32min\u001b[0m \u001b[0mzip\u001b[0m\u001b[0;34m(\u001b[0m\u001b[0mt\u001b[0m\u001b[0;34m,\u001b[0m\u001b[0mth1\u001b[0m\u001b[0;34m)\u001b[0m\u001b[0;34m]\u001b[0m\u001b[0;34m\u001b[0m\u001b[0;34m\u001b[0m\u001b[0m\n\u001b[0m\u001b[1;32m      3\u001b[0m \u001b[0mx\u001b[0m\u001b[0;34m[\u001b[0m\u001b[0;36m0\u001b[0m\u001b[0;34m:\u001b[0m\u001b[0;36m5\u001b[0m\u001b[0;34m]\u001b[0m\u001b[0;34m\u001b[0m\u001b[0;34m\u001b[0m\u001b[0m\n",
            "\u001b[0;31mValueError\u001b[0m: math domain error"
          ]
        }
      ],
      "source": [
        "\n",
        "x = [ (l1**2) * (cos(th))**2 + (sqrt(l2**2 - (l1**2) * (sin(th)**2))) for c,th in zip(t,th1)]\n",
        "x[0:2\n",
        "  ]"
      ]
    },
    {
      "cell_type": "code",
      "execution_count": null,
      "metadata": {
        "colab": {
          "base_uri": "https://localhost:8080/",
          "height": 163
        },
        "id": "J-alOULjI0bD",
        "outputId": "b0a3c226-feca-4fc6-fa3f-fd680d7f5d3f"
      },
      "outputs": [
        {
          "ename": "NameError",
          "evalue": "ignored",
          "output_type": "error",
          "traceback": [
            "\u001b[0;31m---------------------------------------------------------------------------\u001b[0m",
            "\u001b[0;31mNameError\u001b[0m                                 Traceback (most recent call last)",
            "\u001b[0;32m<ipython-input-5-d307fd424513>\u001b[0m in \u001b[0;36m<module>\u001b[0;34m()\u001b[0m\n\u001b[0;32m----> 1\u001b[0;31m \u001b[0mx\u001b[0m\u001b[0;34m[\u001b[0m\u001b[0;36m0\u001b[0m\u001b[0;34m:\u001b[0m\u001b[0;36m2\u001b[0m\u001b[0;34m]\u001b[0m\u001b[0;34m\u001b[0m\u001b[0;34m\u001b[0m\u001b[0m\n\u001b[0m",
            "\u001b[0;31mNameError\u001b[0m: name 'x' is not defined"
          ]
        }
      ],
      "source": [
        "x[0:2]"
      ]
    },
    {
      "cell_type": "code",
      "execution_count": null,
      "metadata": {
        "id": "db--NJW2KEAX"
      },
      "outputs": [],
      "source": [
        "\n",
        "\n",
        "clc;\n",
        "clear all;\n",
        "l1=30;\n",
        "l2=10;\n",
        "n=l1/l2;\n",
        "N=100;\n",
        "w=2*pi*N/60;\n",
        "t=0:0.1:10;\n",
        "th1=w*t;\n",
        "th1=0:0.001:20;\n",
        "if(th1==0)\n",
        "x=0;\n",
        "elseif(th1==180)\n",
        "    x=2*l1;\n",
        "end\n",
        "\n",
        "x=l1.^2*cos(th1).^2+sqrt((l2.^2-l1.^2*sin(th1).^2));\n",
        "v=w*l1*(cos(th1)+l1/2*l2*cos(2*th1));\n",
        "a=l1*w^2*(cos(th1)+cos(2*th1)/n)"
      ]
    },
    {
      "cell_type": "code",
      "execution_count": null,
      "metadata": {
        "id": "IBn82Em8_kSd"
      },
      "outputs": [],
      "source": [
        "m = [ w*l1 * (cos(c)) for c in t ]\n",
        "\n",
        "s = [(( l1*l2 ) //2 ) * sin (2 * (w*x for x in t))]\n",
        "  \n",
        "v = m + s\n"
      ]
    },
    {
      "cell_type": "code",
      "execution_count": null,
      "metadata": {
        "id": "74XQ4P7D-Ex5"
      },
      "outputs": [],
      "source": [
        ""
      ]
    },
    {
      "cell_type": "code",
      "execution_count": null,
      "metadata": {
        "colab": {
          "base_uri": "https://localhost:8080/",
          "height": 282
        },
        "id": "T431K2ah5P54",
        "outputId": "855ebf17-8593-4680-8d4b-f72222128774"
      },
      "outputs": [
        {
          "ename": "TypeError",
          "evalue": "ignored",
          "output_type": "error",
          "traceback": [
            "\u001b[0;31m---------------------------------------------------------------------------\u001b[0m",
            "\u001b[0;31mTypeError\u001b[0m                                 Traceback (most recent call last)",
            "\u001b[0;32m<ipython-input-15-ae1e7a1e0d16>\u001b[0m in \u001b[0;36m<module>\u001b[0;34m()\u001b[0m\n\u001b[0;32m----> 1\u001b[0;31m \u001b[0mv\u001b[0m \u001b[0;34m=\u001b[0m \u001b[0;34m[\u001b[0m \u001b[0mw\u001b[0m\u001b[0;34m*\u001b[0m\u001b[0ml1\u001b[0m \u001b[0;34m*\u001b[0m \u001b[0;34m(\u001b[0m\u001b[0mcos\u001b[0m\u001b[0;34m(\u001b[0m\u001b[0mc\u001b[0m\u001b[0;34m)\u001b[0m\u001b[0;34m)\u001b[0m \u001b[0;34m+\u001b[0m \u001b[0;34m(\u001b[0m\u001b[0ml1\u001b[0m\u001b[0;34m//\u001b[0m\u001b[0;36m2\u001b[0m\u001b[0;34m)\u001b[0m \u001b[0;34m*\u001b[0m \u001b[0ml2\u001b[0m \u001b[0;34m*\u001b[0m \u001b[0mcos\u001b[0m\u001b[0;34m(\u001b[0m\u001b[0;36m2\u001b[0m\u001b[0;34m*\u001b[0m\u001b[0mth1\u001b[0m\u001b[0;34m)\u001b[0m \u001b[0;32mfor\u001b[0m \u001b[0mc\u001b[0m \u001b[0;32min\u001b[0m \u001b[0mt\u001b[0m \u001b[0;34m]\u001b[0m\u001b[0;34m\u001b[0m\u001b[0;34m\u001b[0m\u001b[0m\n\u001b[0m\u001b[1;32m      2\u001b[0m \u001b[0;34m\u001b[0m\u001b[0m\n\u001b[1;32m      3\u001b[0m \u001b[0ma\u001b[0m \u001b[0;34m=\u001b[0m \u001b[0;34m[\u001b[0m\u001b[0;34m(\u001b[0m\u001b[0ml1\u001b[0m\u001b[0;34m**\u001b[0m\u001b[0;36m2\u001b[0m\u001b[0;34m)\u001b[0m\u001b[0;34m*\u001b[0m\u001b[0mw\u001b[0m\u001b[0;34m**\u001b[0m\u001b[0;36m2\u001b[0m \u001b[0;34m*\u001b[0m \u001b[0;34m(\u001b[0m\u001b[0msin\u001b[0m\u001b[0;34m(\u001b[0m\u001b[0mth1\u001b[0m\u001b[0;34m)\u001b[0m\u001b[0;34m)\u001b[0m \u001b[0;34m+\u001b[0m \u001b[0ml1\u001b[0m\u001b[0;34m//\u001b[0m\u001b[0ml2\u001b[0m \u001b[0;34m*\u001b[0m \u001b[0msin\u001b[0m\u001b[0;34m(\u001b[0m\u001b[0;36m2\u001b[0m\u001b[0;34m*\u001b[0m\u001b[0mth1\u001b[0m\u001b[0;34m)\u001b[0m\u001b[0;34m]\u001b[0m\u001b[0;34m\u001b[0m\u001b[0;34m\u001b[0m\u001b[0m\n",
            "\u001b[0;32m<ipython-input-15-ae1e7a1e0d16>\u001b[0m in \u001b[0;36m<listcomp>\u001b[0;34m(.0)\u001b[0m\n\u001b[0;32m----> 1\u001b[0;31m \u001b[0mv\u001b[0m \u001b[0;34m=\u001b[0m \u001b[0;34m[\u001b[0m \u001b[0mw\u001b[0m\u001b[0;34m*\u001b[0m\u001b[0ml1\u001b[0m \u001b[0;34m*\u001b[0m \u001b[0;34m(\u001b[0m\u001b[0mcos\u001b[0m\u001b[0;34m(\u001b[0m\u001b[0mc\u001b[0m\u001b[0;34m)\u001b[0m\u001b[0;34m)\u001b[0m \u001b[0;34m+\u001b[0m \u001b[0;34m(\u001b[0m\u001b[0ml1\u001b[0m\u001b[0;34m//\u001b[0m\u001b[0;36m2\u001b[0m\u001b[0;34m)\u001b[0m \u001b[0;34m*\u001b[0m \u001b[0ml2\u001b[0m \u001b[0;34m*\u001b[0m \u001b[0mcos\u001b[0m\u001b[0;34m(\u001b[0m\u001b[0;36m2\u001b[0m\u001b[0;34m*\u001b[0m\u001b[0mth1\u001b[0m\u001b[0;34m)\u001b[0m \u001b[0;32mfor\u001b[0m \u001b[0mc\u001b[0m \u001b[0;32min\u001b[0m \u001b[0mt\u001b[0m \u001b[0;34m]\u001b[0m\u001b[0;34m\u001b[0m\u001b[0;34m\u001b[0m\u001b[0m\n\u001b[0m\u001b[1;32m      2\u001b[0m \u001b[0;34m\u001b[0m\u001b[0m\n\u001b[1;32m      3\u001b[0m \u001b[0ma\u001b[0m \u001b[0;34m=\u001b[0m \u001b[0;34m[\u001b[0m\u001b[0;34m(\u001b[0m\u001b[0ml1\u001b[0m\u001b[0;34m**\u001b[0m\u001b[0;36m2\u001b[0m\u001b[0;34m)\u001b[0m\u001b[0;34m*\u001b[0m\u001b[0mw\u001b[0m\u001b[0;34m**\u001b[0m\u001b[0;36m2\u001b[0m \u001b[0;34m*\u001b[0m \u001b[0;34m(\u001b[0m\u001b[0msin\u001b[0m\u001b[0;34m(\u001b[0m\u001b[0mth1\u001b[0m\u001b[0;34m)\u001b[0m\u001b[0;34m)\u001b[0m \u001b[0;34m+\u001b[0m \u001b[0ml1\u001b[0m\u001b[0;34m//\u001b[0m\u001b[0ml2\u001b[0m \u001b[0;34m*\u001b[0m \u001b[0msin\u001b[0m\u001b[0;34m(\u001b[0m\u001b[0;36m2\u001b[0m\u001b[0;34m*\u001b[0m\u001b[0mth1\u001b[0m\u001b[0;34m)\u001b[0m\u001b[0;34m]\u001b[0m\u001b[0;34m\u001b[0m\u001b[0;34m\u001b[0m\u001b[0m\n",
            "\u001b[0;31mTypeError\u001b[0m: must be real number, not list"
          ]
        }
      ],
      "source": [
        "v = [ w*l1 * (cos(c)) + (l1//2) * l2 * cos(2*th1) for c in t ]\n",
        "\n",
        "a = [(l1**2)*w**2 * (sin(th1)) + l1//l2 * sin(2*th1)]"
      ]
    },
    {
      "cell_type": "code",
      "execution_count": null,
      "metadata": {
        "colab": {
          "base_uri": "https://localhost:8080/",
          "height": 279
        },
        "id": "Snw3RGcdxGER",
        "outputId": "2f57b4a2-8545-49f3-d9eb-bfb5e1ab5082"
      },
      "outputs": [
        {
          "data": {
            "image/png": "[encoded data removed]",
            "text/plain": [
              "<Figure size 432x288 with 1 Axes>"
            ]
          },
          "metadata": {},
          "output_type": "display_data"
        }
      ],
      "source": [
        "from math import sin, cos, sqrt,acos\n",
        "import numpy as np\n",
        "l1 = 15\n",
        "l2 = 6\n",
        "n  = l2/l1\n",
        "N  = 15\n",
        "w  = (2*3.14159265358792384*15)/60\n",
        "t  = list(np.linspace(0,5,100))\n",
        "th1 = [w*x for x in t]\n",
        "th1 = list(np.linspace(0,5,100))\n",
        "x = [ (l2**2) + (sqrt(l1**2 - (l2**2) * (sin(th)**2))) for c,th in zip(t,th1)]\n",
        "v = [ w*l1 * (cos(th)) +( (l1/2*l2) * cos(2*th)) for c,th in zip(t,th1) ]\n",
        "a=  [ (l1*w**2) * (cos(th) + (cos (2*th)/n)) for c,th in zip(t,th1) ]\n",
        "\n",
        "from matplotlib import pyplot as plt\n",
        "plt.plot(x,t)\n",
        "plt.xlabel(\"x\")\n",
        "plt.ylabel(\"t\")\n",
        "plt.show()\n",
        "\n"
      ]
    },
    {
      "cell_type": "code",
      "execution_count": null,
      "metadata": {
        "id": "bzZe8pcpgdNS"
      },
      "outputs": [],
      "source": [
        "clear all;\n",
        "l=15;\n",
        "r=6;\n",
        "n=r/l;\n",
        "N=15;\n",
        "w=2*pi*N/60;\n",
        "t=0:0.04:5\n",
        "th=w*t;\n",
        "if th==0\n",
        "    x=r+l;\n",
        "else th==180\n",
        "    x=r-l;\n",
        "end\n",
        "x=r*cos(th)+sqrt(l.^2-r.^2*sin(th).^2);\n",
        "\n",
        "v=(-1.*r.*w)*(sin(th)+((r.*sin(2.*th))./(2.*sqrt(l.^2-r.^2.*sin(th).^2))));\n",
        "a=r*w^2*(cos(th)+r/l*cos(2*th));\n",
        " figure(1)\n",
        " plot(t,x);\n",
        "title('displacement');\n",
        " xlabel('t');\n",
        " ylabel('x');\n",
        " grid on;\n",
        " figure(2)\n",
        " plot(t,v);\n",
        "title('velocity');\n",
        " xlabel('t');\n",
        "ylabel('v');\n",
        "grid on"
      ]
    },
    {
      "cell_type": "code",
      "execution_count": null,
      "metadata": {
        "colab": {
          "base_uri": "https://localhost:8080/"
        },
        "id": "W2Nwn49pOy5d",
        "outputId": "e1aa8b8f-059a-4746-9e79-1109b2291053"
      },
      "outputs": [
        {
          "data": {
            "text/plain": [
              "45"
            ]
          },
          "execution_count": 3,
          "metadata": {
            "tags": []
          },
          "output_type": "execute_result"
        }
      ],
      "source": [
        "34+11"
      ]
    },
    {
      "cell_type": "code",
      "execution_count": null,
      "metadata": {
        "id": "0w_qhZFWjf3w"
      },
      "outputs": [],
      "source": [
        ""
      ]
    },
    {
      "cell_type": "code",
      "execution_count": null,
      "metadata": {
        "id": "pg4aHsbKjgOo"
      },
      "outputs": [],
      "source": [
        ""
      ]
    },
    {
      "cell_type": "code",
      "execution_count": null,
      "metadata": {
        "colab": {
          "base_uri": "https://localhost:8080/"
        },
        "id": "k5AH8MPQOjP7",
        "outputId": "72cb6ee7-736b-4d2b-c4b9-7f3180e07481"
      },
      "outputs": [
        {
          "data": {
            "text/plain": [
              "[155.0,\n",
              " 154.99557999415657,\n",
              " 154.98232061237542,\n",
              " 154.96022376181276,\n",
              " 154.9292926207583,\n",
              " 154.8895316381797,\n",
              " 154.8409465330842,\n",
              " 154.78354429369878,\n",
              " 154.7173331764679,\n",
              " 154.64232270486934]"
            ]
          },
          "execution_count": 3,
          "metadata": {},
          "output_type": "execute_result"
        }
      ],
      "source": [
        "[ (l1**2) * (cos(th))**2 + (sqrt(l2**2 - (l1**2) * (sin(th)**2))) for c,th in zip(t,th1)] [:10]"
      ]
    },
    {
      "cell_type": "code",
      "execution_count": null,
      "metadata": {
        "colab": {
          "base_uri": "https://localhost:8080/"
        },
        "id": "SzH9LNk8Yvy2",
        "outputId": "a11d3d9f-16ef-4ee8-e042-cf9e80573a0b"
      },
      "outputs": [
        {
          "data": {
            "text/plain": [
              "[198.51917306315573,\n",
              " 198.50550188022984,\n",
              " 198.46449027768602,\n",
              " 198.39614409394648,\n",
              " 198.3004730587831,\n",
              " 198.17749079192092,\n",
              " 198.02721480108218,\n",
              " 197.84966647947266,\n",
              " 197.6448711027099,\n",
              " 197.41285782519418]"
            ]
          },
          "execution_count": 12,
          "metadata": {
            "tags": []
          },
          "output_type": "execute_result"
        }
      ],
      "source": [
        " [ w*l1 * (cos(th)) +( (l1/2*l2) * cos(2*th)) for c,th in zip(t,th1) ] [:10]"
      ]
    },
    {
      "cell_type": "code",
      "execution_count": null,
      "metadata": {
        "colab": {
          "base_uri": "https://localhost:8080/",
          "height": 356
        },
        "id": "iM8ZVnyPPyHl",
        "outputId": "e1477b9d-40ca-43a4-f255-a0446f5bb849"
      },
      "outputs": [
        {
          "ename": "ValueError",
          "evalue": "ignored",
          "output_type": "error",
          "traceback": [
            "\u001b[0;31m---------------------------------------------------------------------------\u001b[0m",
            "\u001b[0;31mValueError\u001b[0m                                Traceback (most recent call last)",
            "\u001b[0;32m<ipython-input-4-e6e8e9529751>\u001b[0m in \u001b[0;36m<module>\u001b[0;34m()\u001b[0m\n\u001b[1;32m     11\u001b[0m \u001b[0mth1\u001b[0m \u001b[0;34m=\u001b[0m \u001b[0mlist\u001b[0m\u001b[0;34m(\u001b[0m\u001b[0mnp\u001b[0m\u001b[0;34m.\u001b[0m\u001b[0mlinspace\u001b[0m\u001b[0;34m(\u001b[0m\u001b[0;36m0\u001b[0m\u001b[0;34m,\u001b[0m\u001b[0;36m6\u001b[0m\u001b[0;34m,\u001b[0m\u001b[0;36m100\u001b[0m\u001b[0;34m)\u001b[0m\u001b[0;34m)\u001b[0m\u001b[0;34m\u001b[0m\u001b[0;34m\u001b[0m\u001b[0m\n\u001b[1;32m     12\u001b[0m \u001b[0;34m\u001b[0m\u001b[0m\n\u001b[0;32m---> 13\u001b[0;31m \u001b[0mx\u001b[0m \u001b[0;34m=\u001b[0m \u001b[0;34m[\u001b[0m \u001b[0;34m(\u001b[0m\u001b[0ml1\u001b[0m\u001b[0;34m**\u001b[0m\u001b[0;36m2\u001b[0m\u001b[0;34m)\u001b[0m \u001b[0;34m*\u001b[0m \u001b[0;34m(\u001b[0m\u001b[0mcos\u001b[0m\u001b[0;34m(\u001b[0m\u001b[0mth\u001b[0m\u001b[0;34m)\u001b[0m\u001b[0;34m)\u001b[0m\u001b[0;34m**\u001b[0m\u001b[0;36m2\u001b[0m \u001b[0;34m+\u001b[0m \u001b[0;34m(\u001b[0m\u001b[0msqrt\u001b[0m\u001b[0;34m(\u001b[0m\u001b[0ml2\u001b[0m\u001b[0;34m**\u001b[0m\u001b[0;36m2\u001b[0m \u001b[0;34m-\u001b[0m \u001b[0;34m(\u001b[0m\u001b[0ml1\u001b[0m\u001b[0;34m**\u001b[0m\u001b[0;36m2\u001b[0m\u001b[0;34m)\u001b[0m \u001b[0;34m*\u001b[0m \u001b[0;34m(\u001b[0m\u001b[0msin\u001b[0m\u001b[0;34m(\u001b[0m\u001b[0mth\u001b[0m\u001b[0;34m)\u001b[0m\u001b[0;34m**\u001b[0m\u001b[0;36m2\u001b[0m\u001b[0;34m)\u001b[0m\u001b[0;34m)\u001b[0m\u001b[0;34m)\u001b[0m \u001b[0;32mfor\u001b[0m \u001b[0mc\u001b[0m\u001b[0;34m,\u001b[0m\u001b[0mth\u001b[0m \u001b[0;32min\u001b[0m \u001b[0mzip\u001b[0m\u001b[0;34m(\u001b[0m\u001b[0mt\u001b[0m\u001b[0;34m,\u001b[0m\u001b[0mth1\u001b[0m\u001b[0;34m)\u001b[0m\u001b[0;34m]\u001b[0m\u001b[0;34m\u001b[0m\u001b[0;34m\u001b[0m\u001b[0m\n\u001b[0m\u001b[1;32m     14\u001b[0m \u001b[0mv\u001b[0m \u001b[0;34m=\u001b[0m \u001b[0;34m[\u001b[0m \u001b[0mw\u001b[0m\u001b[0;34m*\u001b[0m\u001b[0ml1\u001b[0m \u001b[0;34m*\u001b[0m \u001b[0;34m(\u001b[0m\u001b[0mcos\u001b[0m\u001b[0;34m(\u001b[0m\u001b[0mth\u001b[0m\u001b[0;34m)\u001b[0m\u001b[0;34m)\u001b[0m \u001b[0;34m+\u001b[0m \u001b[0;34m(\u001b[0m\u001b[0ml1\u001b[0m\u001b[0;34m*\u001b[0m\u001b[0ml2\u001b[0m\u001b[0;34m//\u001b[0m\u001b[0;36m2\u001b[0m\u001b[0;34m)\u001b[0m \u001b[0;34m*\u001b[0m \u001b[0mcos\u001b[0m\u001b[0;34m(\u001b[0m\u001b[0;36m2\u001b[0m\u001b[0;34m*\u001b[0m\u001b[0mth\u001b[0m\u001b[0;34m)\u001b[0m \u001b[0;32mfor\u001b[0m \u001b[0mc\u001b[0m\u001b[0;34m,\u001b[0m\u001b[0mth\u001b[0m \u001b[0;32min\u001b[0m \u001b[0mzip\u001b[0m\u001b[0;34m(\u001b[0m\u001b[0mt\u001b[0m\u001b[0;34m,\u001b[0m\u001b[0mth1\u001b[0m\u001b[0;34m)\u001b[0m \u001b[0;34m]\u001b[0m\u001b[0;34m\u001b[0m\u001b[0;34m\u001b[0m\u001b[0m\n\u001b[1;32m     15\u001b[0m \u001b[0ma\u001b[0m\u001b[0;34m=\u001b[0m  \u001b[0;34m[\u001b[0m \u001b[0;34m(\u001b[0m\u001b[0ml1\u001b[0m\u001b[0;34m*\u001b[0m\u001b[0mw\u001b[0m\u001b[0;34m**\u001b[0m\u001b[0;36m2\u001b[0m\u001b[0;34m)\u001b[0m \u001b[0;34m*\u001b[0m \u001b[0;34m(\u001b[0m\u001b[0mcos\u001b[0m\u001b[0;34m(\u001b[0m\u001b[0mth\u001b[0m\u001b[0;34m)\u001b[0m \u001b[0;34m+\u001b[0m \u001b[0;34m(\u001b[0m\u001b[0mcos\u001b[0m \u001b[0;34m(\u001b[0m\u001b[0;36m2\u001b[0m\u001b[0;34m*\u001b[0m\u001b[0mth\u001b[0m\u001b[0;34m)\u001b[0m\u001b[0;34m/\u001b[0m\u001b[0mn\u001b[0m\u001b[0;34m)\u001b[0m\u001b[0;34m)\u001b[0m \u001b[0;32mfor\u001b[0m \u001b[0mc\u001b[0m\u001b[0;34m,\u001b[0m\u001b[0mth\u001b[0m \u001b[0;32min\u001b[0m \u001b[0mzip\u001b[0m\u001b[0;34m(\u001b[0m\u001b[0mt\u001b[0m\u001b[0;34m,\u001b[0m\u001b[0mth1\u001b[0m\u001b[0;34m)\u001b[0m \u001b[0;34m]\u001b[0m\u001b[0;34m\u001b[0m\u001b[0;34m\u001b[0m\u001b[0m\n",
            "\u001b[0;32m<ipython-input-4-e6e8e9529751>\u001b[0m in \u001b[0;36m<listcomp>\u001b[0;34m(.0)\u001b[0m\n\u001b[1;32m     11\u001b[0m \u001b[0mth1\u001b[0m \u001b[0;34m=\u001b[0m \u001b[0mlist\u001b[0m\u001b[0;34m(\u001b[0m\u001b[0mnp\u001b[0m\u001b[0;34m.\u001b[0m\u001b[0mlinspace\u001b[0m\u001b[0;34m(\u001b[0m\u001b[0;36m0\u001b[0m\u001b[0;34m,\u001b[0m\u001b[0;36m6\u001b[0m\u001b[0;34m,\u001b[0m\u001b[0;36m100\u001b[0m\u001b[0;34m)\u001b[0m\u001b[0;34m)\u001b[0m\u001b[0;34m\u001b[0m\u001b[0;34m\u001b[0m\u001b[0m\n\u001b[1;32m     12\u001b[0m \u001b[0;34m\u001b[0m\u001b[0m\n\u001b[0;32m---> 13\u001b[0;31m \u001b[0mx\u001b[0m \u001b[0;34m=\u001b[0m \u001b[0;34m[\u001b[0m \u001b[0;34m(\u001b[0m\u001b[0ml1\u001b[0m\u001b[0;34m**\u001b[0m\u001b[0;36m2\u001b[0m\u001b[0;34m)\u001b[0m \u001b[0;34m*\u001b[0m \u001b[0;34m(\u001b[0m\u001b[0mcos\u001b[0m\u001b[0;34m(\u001b[0m\u001b[0mth\u001b[0m\u001b[0;34m)\u001b[0m\u001b[0;34m)\u001b[0m\u001b[0;34m**\u001b[0m\u001b[0;36m2\u001b[0m \u001b[0;34m+\u001b[0m \u001b[0;34m(\u001b[0m\u001b[0msqrt\u001b[0m\u001b[0;34m(\u001b[0m\u001b[0ml2\u001b[0m\u001b[0;34m**\u001b[0m\u001b[0;36m2\u001b[0m \u001b[0;34m-\u001b[0m \u001b[0;34m(\u001b[0m\u001b[0ml1\u001b[0m\u001b[0;34m**\u001b[0m\u001b[0;36m2\u001b[0m\u001b[0;34m)\u001b[0m \u001b[0;34m*\u001b[0m \u001b[0;34m(\u001b[0m\u001b[0msin\u001b[0m\u001b[0;34m(\u001b[0m\u001b[0mth\u001b[0m\u001b[0;34m)\u001b[0m\u001b[0;34m**\u001b[0m\u001b[0;36m2\u001b[0m\u001b[0;34m)\u001b[0m\u001b[0;34m)\u001b[0m\u001b[0;34m)\u001b[0m \u001b[0;32mfor\u001b[0m \u001b[0mc\u001b[0m\u001b[0;34m,\u001b[0m\u001b[0mth\u001b[0m \u001b[0;32min\u001b[0m \u001b[0mzip\u001b[0m\u001b[0;34m(\u001b[0m\u001b[0mt\u001b[0m\u001b[0;34m,\u001b[0m\u001b[0mth1\u001b[0m\u001b[0;34m)\u001b[0m\u001b[0;34m]\u001b[0m\u001b[0;34m\u001b[0m\u001b[0;34m\u001b[0m\u001b[0m\n\u001b[0m\u001b[1;32m     14\u001b[0m \u001b[0mv\u001b[0m \u001b[0;34m=\u001b[0m \u001b[0;34m[\u001b[0m \u001b[0mw\u001b[0m\u001b[0;34m*\u001b[0m\u001b[0ml1\u001b[0m \u001b[0;34m*\u001b[0m \u001b[0;34m(\u001b[0m\u001b[0mcos\u001b[0m\u001b[0;34m(\u001b[0m\u001b[0mth\u001b[0m\u001b[0;34m)\u001b[0m\u001b[0;34m)\u001b[0m \u001b[0;34m+\u001b[0m \u001b[0;34m(\u001b[0m\u001b[0ml1\u001b[0m\u001b[0;34m*\u001b[0m\u001b[0ml2\u001b[0m\u001b[0;34m//\u001b[0m\u001b[0;36m2\u001b[0m\u001b[0;34m)\u001b[0m \u001b[0;34m*\u001b[0m \u001b[0mcos\u001b[0m\u001b[0;34m(\u001b[0m\u001b[0;36m2\u001b[0m\u001b[0;34m*\u001b[0m\u001b[0mth\u001b[0m\u001b[0;34m)\u001b[0m \u001b[0;32mfor\u001b[0m \u001b[0mc\u001b[0m\u001b[0;34m,\u001b[0m\u001b[0mth\u001b[0m \u001b[0;32min\u001b[0m \u001b[0mzip\u001b[0m\u001b[0;34m(\u001b[0m\u001b[0mt\u001b[0m\u001b[0;34m,\u001b[0m\u001b[0mth1\u001b[0m\u001b[0;34m)\u001b[0m \u001b[0;34m]\u001b[0m\u001b[0;34m\u001b[0m\u001b[0;34m\u001b[0m\u001b[0m\n\u001b[1;32m     15\u001b[0m \u001b[0ma\u001b[0m\u001b[0;34m=\u001b[0m  \u001b[0;34m[\u001b[0m \u001b[0;34m(\u001b[0m\u001b[0ml1\u001b[0m\u001b[0;34m*\u001b[0m\u001b[0mw\u001b[0m\u001b[0;34m**\u001b[0m\u001b[0;36m2\u001b[0m\u001b[0;34m)\u001b[0m \u001b[0;34m*\u001b[0m \u001b[0;34m(\u001b[0m\u001b[0mcos\u001b[0m\u001b[0;34m(\u001b[0m\u001b[0mth\u001b[0m\u001b[0;34m)\u001b[0m \u001b[0;34m+\u001b[0m \u001b[0;34m(\u001b[0m\u001b[0mcos\u001b[0m \u001b[0;34m(\u001b[0m\u001b[0;36m2\u001b[0m\u001b[0;34m*\u001b[0m\u001b[0mth\u001b[0m\u001b[0;34m)\u001b[0m\u001b[0;34m/\u001b[0m\u001b[0mn\u001b[0m\u001b[0;34m)\u001b[0m\u001b[0;34m)\u001b[0m \u001b[0;32mfor\u001b[0m \u001b[0mc\u001b[0m\u001b[0;34m,\u001b[0m\u001b[0mth\u001b[0m \u001b[0;32min\u001b[0m \u001b[0mzip\u001b[0m\u001b[0;34m(\u001b[0m\u001b[0mt\u001b[0m\u001b[0;34m,\u001b[0m\u001b[0mth1\u001b[0m\u001b[0;34m)\u001b[0m \u001b[0;34m]\u001b[0m\u001b[0;34m\u001b[0m\u001b[0;34m\u001b[0m\u001b[0m\n",
            "\u001b[0;31mValueError\u001b[0m: math domain error"
          ]
        }
      ],
      "source": [
        "from math import sin, cos, sqrt,acos\n",
        "import numpy as np\n",
        "l1 = 15\n",
        "l2 = 6\n",
        "n  = l1/l2\n",
        "N  = 10\n",
        "w  = (2*3.14159265358792384*200)/60\n",
        "t  = list(np.linspace(0,2,100))\n",
        "\n",
        "th1 = [w*x for x in t]\n",
        "th1 = list(np.linspace(0,6,100))\n",
        "\n",
        "x = [ (l1**2) * (cos(th))**2 + (sqrt(l2**2 - (l1**2) * (sin(th)**2))) for c,th in zip(t,th1)]\n",
        "v = [ w*l1 * (cos(th)) + (l1*l2//2) * cos(2*th) for c,th in zip(t,th1) ]\n",
        "a=  [ (l1*w**2) * (cos(th) + (cos (2*th)/n)) for c,th in zip(t,th1) ]\n",
        "from matplotlib import pyplot as plt\n",
        "plt.plot(t,x)\n",
        "plt.xlabel(\"time\")\n",
        "plt.ylabel(\"acceleration\")\n",
        "plt.show()"
      ]
    },
    {
      "cell_type": "code",
      "execution_count": null,
      "metadata": {
        "colab": {
          "base_uri": "https://localhost:8080/",
          "height": 344,
          "referenced_widgets": [
            "201ed1565af6469992e9a8533e33ae6e",
            "47ab61ff9b8e4744b38bcd07d74b8432",
            "b39b9f74fdaf4e6d9ba6628c739e4b3f",
            "0b17c8b015fa4b258e4cca1f33089258",
            "d9f58594ad3c482fbef288f4d5f11c2b",
            "4ae83b05fb1b4f488e1cf4427201964d",
            "5653d26b4ce44fa799e2d7f89997ff88"
          ]
        },
        "id": "VNMLo_FyPdVa",
        "outputId": "8b818d42-1d33-4089-c709-2df33b7d029f"
      },
      "outputs": [
        {
          "data": {
            "application/vnd.jupyter.widget-view+json": {
              "model_id": "201ed1565af6469992e9a8533e33ae6e",
              "version_major": 2,
              "version_minor": 0
            },
            "text/plain": [
              "interactive(children=(IntSlider(value=180, description='theta', max=360), Output()), _dom_classes=('widget-int…"
            ]
          },
          "metadata": {},
          "output_type": "display_data"
        }
      ],
      "source": [
        "from matplotlib.pyplot import *\n",
        "\n",
        "from numpy import *\n",
        "\n",
        "from ipywidgets import interactive\n",
        "\n",
        "def f(theta): # creating a function that give angle to crank\n",
        "\n",
        "    xa= 0 # starting point of x cordinate of crank\n",
        "\n",
        "    ya = 0 # starting point of y cordinate of crank\n",
        "\n",
        "    xb = 5*cos(radians(theta)) # ending/starting point of x cordinate of crank/connecting rod\n",
        "\n",
        "    yb = 5*sin(radians(theta))  # ending/starting point of y cordinate of crank/connecting rod\n",
        "\n",
        "    xc = xb + sqrt(10**2-yb**2) # ending x cordinate of connecting rod\n",
        "\n",
        "    yc =0 # ending y cordinate of connecting rod\n",
        "    x = ( [ xa , xb , xc ]) \n",
        "\n",
        "    y =([ya,yb,yc])\n",
        "\n",
        "    xlabel ('x cordinate')\n",
        "\n",
        "    ylabel('y cordinate')\n",
        "\n",
        "    title('connecting rod mechanism in python')\n",
        "\n",
        "    plot(x,y)\n",
        "\n",
        "    axis('equal') #make length  x and y coordinate equal\n",
        "\n",
        "    print('distance of piston from crankshaft is ',xc)\n",
        "\n",
        "interactive_plot = interactive(f,theta=(0,360))\n",
        "\n",
        "interactive_plot"
      ]
    }
  ],
  "metadata": {
    "colab": {
      "name": "slider crank mechnasim",
      "provenance": [],
      "include_colab_link": true
    },
    "kernelspec": {
      "display_name": "Python 3",
      "name": "python3"
    },
    "language_info": {
      "name": "python"
    },
    "widgets": {
      "application/vnd.jupyter.widget-state+json": {
        "0b17c8b015fa4b258e4cca1f33089258": {
          "model_module": "@jupyter-widgets/base",
          "model_module_version": "1.2.0",
          "model_name": "LayoutModel",
          "state": {
            "_model_module": "@jupyter-widgets/base",
            "_model_module_version": "1.2.0",
            "_model_name": "LayoutModel",
            "_view_count": null,
            "_view_module": "@jupyter-widgets/base",
            "_view_module_version": "1.2.0",
            "_view_name": "LayoutView",
            "align_content": null,
            "align_items": null,
            "align_self": null,
            "border": null,
            "bottom": null,
            "display": null,
            "flex": null,
            "flex_flow": null,
            "grid_area": null,
            "grid_auto_columns": null,
            "grid_auto_flow": null,
            "grid_auto_rows": null,
            "grid_column": null,
            "grid_gap": null,
            "grid_row": null,
            "grid_template_areas": null,
            "grid_template_columns": null,
            "grid_template_rows": null,
            "height": null,
            "justify_content": null,
            "justify_items": null,
            "left": null,
            "margin": null,
            "max_height": null,
            "max_width": null,
            "min_height": null,
            "min_width": null,
            "object_fit": null,
            "object_position": null,
            "order": null,
            "overflow": null,
            "overflow_x": null,
            "overflow_y": null,
            "padding": null,
            "right": null,
            "top": null,
            "visibility": null,
            "width": null
          }
        },
        "201ed1565af6469992e9a8533e33ae6e": {
          "model_module": "@jupyter-widgets/controls",
          "model_module_version": "1.5.0",
          "model_name": "VBoxModel",
          "state": {
            "_dom_classes": [
              "widget-interact"
            ],
            "_model_module": "@jupyter-widgets/controls",
            "_model_module_version": "1.5.0",
            "_model_name": "VBoxModel",
            "_view_count": null,
            "_view_module": "@jupyter-widgets/controls",
            "_view_module_version": "1.5.0",
            "_view_name": "VBoxView",
            "box_style": "",
            "children": [
              "IPY_MODEL_47ab61ff9b8e4744b38bcd07d74b8432",
              "IPY_MODEL_b39b9f74fdaf4e6d9ba6628c739e4b3f"
            ],
            "layout": "IPY_MODEL_0b17c8b015fa4b258e4cca1f33089258"
          }
        },
        "47ab61ff9b8e4744b38bcd07d74b8432": {
          "model_module": "@jupyter-widgets/controls",
          "model_module_version": "1.5.0",
          "model_name": "IntSliderModel",
          "state": {
            "_dom_classes": [],
            "_model_module": "@jupyter-widgets/controls",
            "_model_module_version": "1.5.0",
            "_model_name": "IntSliderModel",
            "_view_count": null,
            "_view_module": "@jupyter-widgets/controls",
            "_view_module_version": "1.5.0",
            "_view_name": "IntSliderView",
            "continuous_update": true,
            "description": "theta",
            "description_tooltip": null,
            "disabled": false,
            "layout": "IPY_MODEL_d9f58594ad3c482fbef288f4d5f11c2b",
            "max": 360,
            "min": 0,
            "orientation": "horizontal",
            "readout": true,
            "readout_format": "d",
            "step": 1,
            "style": "IPY_MODEL_4ae83b05fb1b4f488e1cf4427201964d",
            "value": 17
          }
        },
        "4ae83b05fb1b4f488e1cf4427201964d": {
          "model_module": "@jupyter-widgets/controls",
          "model_module_version": "1.5.0",
          "model_name": "SliderStyleModel",
          "state": {
            "_model_module": "@jupyter-widgets/controls",
            "_model_module_version": "1.5.0",
            "_model_name": "SliderStyleModel",
            "_view_count": null,
            "_view_module": "@jupyter-widgets/base",
            "_view_module_version": "1.2.0",
            "_view_name": "StyleView",
            "description_width": "",
            "handle_color": null
          }
        },
        "5653d26b4ce44fa799e2d7f89997ff88": {
          "model_module": "@jupyter-widgets/base",
          "model_module_version": "1.2.0",
          "model_name": "LayoutModel",
          "state": {
            "_model_module": "@jupyter-widgets/base",
            "_model_module_version": "1.2.0",
            "_model_name": "LayoutModel",
            "_view_count": null,
            "_view_module": "@jupyter-widgets/base",
            "_view_module_version": "1.2.0",
            "_view_name": "LayoutView",
            "align_content": null,
            "align_items": null,
            "align_self": null,
            "border": null,
            "bottom": null,
            "display": null,
            "flex": null,
            "flex_flow": null,
            "grid_area": null,
            "grid_auto_columns": null,
            "grid_auto_flow": null,
            "grid_auto_rows": null,
            "grid_column": null,
            "grid_gap": null,
            "grid_row": null,
            "grid_template_areas": null,
            "grid_template_columns": null,
            "grid_template_rows": null,
            "height": null,
            "justify_content": null,
            "justify_items": null,
            "left": null,
            "margin": null,
            "max_height": null,
            "max_width": null,
            "min_height": null,
            "min_width": null,
            "object_fit": null,
            "object_position": null,
            "order": null,
            "overflow": null,
            "overflow_x": null,
            "overflow_y": null,
            "padding": null,
            "right": null,
            "top": null,
            "visibility": null,
            "width": null
          }
        },
        "b39b9f74fdaf4e6d9ba6628c739e4b3f": {
          "model_module": "@jupyter-widgets/output",
          "model_module_version": "1.0.0",
          "model_name": "OutputModel",
          "state": {
            "_dom_classes": [],
            "_model_module": "@jupyter-widgets/output",
            "_model_module_version": "1.0.0",
            "_model_name": "OutputModel",
            "_view_count": null,
            "_view_module": "@jupyter-widgets/output",
            "_view_module_version": "1.0.0",
            "_view_name": "OutputView",
            "layout": "IPY_MODEL_5653d26b4ce44fa799e2d7f89997ff88",
            "msg_id": "",
            "outputs": [
              {
                "name": "stdout",
                "output_type": "stream",
                "text": [
                  "distance of piston from crankshaft is  14.674095217865954\n"
                ]
              },
              {
                "data": {
                  "image/png": "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\n",
                  "text/plain": "<Figure size 432x288 with 1 Axes>"
                },
                "metadata": {
                  "needs_background": "light"
                },
                "output_type": "display_data"
              }
            ]
          }
        },
        "d9f58594ad3c482fbef288f4d5f11c2b": {
          "model_module": "@jupyter-widgets/base",
          "model_module_version": "1.2.0",
          "model_name": "LayoutModel",
          "state": {
            "_model_module": "@jupyter-widgets/base",
            "_model_module_version": "1.2.0",
            "_model_name": "LayoutModel",
            "_view_count": null,
            "_view_module": "@jupyter-widgets/base",
            "_view_module_version": "1.2.0",
            "_view_name": "LayoutView",
            "align_content": null,
            "align_items": null,
            "align_self": null,
            "border": null,
            "bottom": null,
            "display": null,
            "flex": null,
            "flex_flow": null,
            "grid_area": null,
            "grid_auto_columns": null,
            "grid_auto_flow": null,
            "grid_auto_rows": null,
            "grid_column": null,
            "grid_gap": null,
            "grid_row": null,
            "grid_template_areas": null,
            "grid_template_columns": null,
            "grid_template_rows": null,
            "height": null,
            "justify_content": null,
            "justify_items": null,
            "left": null,
            "margin": null,
            "max_height": null,
            "max_width": null,
            "min_height": null,
            "min_width": null,
            "object_fit": null,
            "object_position": null,
            "order": null,
            "overflow": null,
            "overflow_x": null,
            "overflow_y": null,
            "padding": null,
            "right": null,
            "top": null,
            "visibility": null,
            "width": null
          }
        }
      }
    }
  },
  "nbformat": 4,
  "nbformat_minor": 0
}