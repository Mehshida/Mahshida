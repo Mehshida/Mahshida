{
  "nbformat": 4,
  "nbformat_minor": 0,
  "metadata": {
    "colab": {
      "provenance": [],
      "authorship_tag": "ABX9TyNJLZ91imZWwkrs3vdhmM9I",
      "include_colab_link": true
    },
    "kernelspec": {
      "name": "python3",
      "display_name": "Python 3"
    },
    "language_info": {
      "name": "python"
    }
  },
  "cells": [
    {
      "cell_type": "markdown",
      "metadata": {
        "id": "view-in-github",
        "colab_type": "text"
      },
      "source": [
        "<a href=\"https://colab.research.google.com/github/Mehshida/Mahshida/blob/main/Untitled109.ipynb\" target=\"_parent\"><img src=\"https://colab.research.google.com/assets/colab-badge.svg\" alt=\"Open In Colab\"/></a>"
      ]
    },
    {
      "cell_type": "code",
      "execution_count": 6,
      "metadata": {
        "colab": {
          "base_uri": "https://localhost:8080/"
        },
        "id": "XG0CCpVcC2v4",
        "outputId": "598afe0f-34a6-4534-bba1-85f5e19c05cb"
      },
      "outputs": [
        {
          "output_type": "stream",
          "name": "stdout",
          "text": [
            "Enter your nameMahshida\n",
            "Hello Mahshida\n"
          ]
        }
      ],
      "source": [
        "#Write a program that uses input to prompt a user for their nameand then welcomes them.\n",
        "Name= input(\"Enter your name\")\n",
        "print('Hello', Name)"
      ]
    },
    {
      "cell_type": "code",
      "source": [
        "# Write a program to prompt the user for hours and rate per hour tocompute gross pay.\n",
        "Enter_Hours = input(\"Enter Hours\")\n",
        "Enter_Rate = input(\"Enter Rate\")\n",
        "Pay = float(Enter_Hours) * float(Enter_Rate)"
      ],
      "metadata": {
        "id": "6fsUUGCjDjeC"
      },
      "execution_count": null,
      "outputs": []
    },
    {
      "cell_type": "markdown",
      "source": [
        "Chpter 3"
      ],
      "metadata": {
        "id": "sBB-k8_0D-tE"
      }
    },
    {
      "cell_type": "code",
      "source": [
        "#Exercise 1: Rewrite your pay computation to give the employee 1.5 times thehourly rate for hours worked above 40 hours\n",
        "hours = float(input(\"Enter Hours: \"))\n",
        "rate = float(input(\"Enter Rate: \"))\n",
        "\n",
        "if hours > 40:\n",
        "    pay = (40 * rate) + ((hours - 40) * rate * 1.5)\n",
        "else:\n",
        "    pay = hours * rate\n",
        "\n",
        "print(\"Total Pay:\", pay)\n"
      ],
      "metadata": {
        "colab": {
          "base_uri": "https://localhost:8080/"
        },
        "id": "ULRcBzgrEyW9",
        "outputId": "48d01a57-34f0-4e6f-cb74-d4f98263499e"
      },
      "execution_count": 9,
      "outputs": [
        {
          "output_type": "stream",
          "name": "stdout",
          "text": [
            "Enter Hours45\n",
            "Enter Rate10\n",
            "675.0\n"
          ]
        }
      ]
    },
    {
      "cell_type": "code",
      "source": [
        "# Exercise 2: Rewrite your pay program using try and except so that your program handles non-numeric input gracefully by printing a message and exiting the program.\n",
        "try:\n",
        "    hours = float(input(\"Enter Hours: \"))\n",
        "    rate = float(input(\"Enter Rate: \"))\n",
        "\n",
        "    if hours > 40:\n",
        "        pay = (40 * rate) + ((hours - 40) * rate * 1.5)\n",
        "    else:\n",
        "        pay = hours * rate\n",
        "\n",
        "    print(\"Total Pay:\", pay)\n",
        "\n",
        "except ValueError:\n",
        "    print(\"Error: Please enter numeric values only.\")\n"
      ],
      "metadata": {
        "id": "8LCHkcuJFvqB"
      },
      "execution_count": null,
      "outputs": []
    },
    {
      "cell_type": "code",
      "source": [
        "#Exercise 3: Write a program to prompt for a score between 0.0 and 1.0. If thescore is out of range, print an error message. If the score is between 0.0 and 1.0,print a grade using the following table:\n",
        "\n",
        "try:\n",
        "  score= float(input(\" Enter score:\"))\n",
        "  if score>=0.9:\n",
        "    print(\"A\")\n",
        "  elif score>=0.8:\n",
        "    print(\"B\")\n",
        "  elif score>=0.7:\n",
        "    print(\"C\")\n",
        "  elif score>=0.6:\n",
        "    print(\"D\")\n",
        "  elif score<0.6:\n",
        "    print(\"F\")\n",
        "except ValueError:\n",
        "  print(\"Error: Please enter numeric values only.\")\n",
        "\n"
      ],
      "metadata": {
        "id": "sMaCfRx2Gyeu"
      },
      "execution_count": null,
      "outputs": []
    },
    {
      "cell_type": "code",
      "source": [
        "def fred():\n",
        " print(\"Zap\")\n",
        "def jane():\n",
        "  print(\"ABC\")\n",
        "jane()"
      ],
      "metadata": {
        "colab": {
          "base_uri": "https://localhost:8080/"
        },
        "id": "hDjd4dnkHnS1",
        "outputId": "54457728-6a0d-45e9-af15-67408471ed4d"
      },
      "execution_count": 12,
      "outputs": [
        {
          "output_type": "stream",
          "name": "stdout",
          "text": [
            "ABC\n"
          ]
        }
      ]
    },
    {
      "cell_type": "code",
      "source": [],
      "metadata": {
        "id": "L0FAzpFpHya8"
      },
      "execution_count": null,
      "outputs": []
    }
  ]
}